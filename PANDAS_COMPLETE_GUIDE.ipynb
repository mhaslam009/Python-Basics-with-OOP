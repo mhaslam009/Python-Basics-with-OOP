{
 "cells": [
  {
   "cell_type": "markdown",
   "metadata": {},
   "source": [
    "<h1>Data Importing </h1>"
   ]
  },
  {
   "cell_type": "code",
   "execution_count": 8,
   "metadata": {},
   "outputs": [],
   "source": [
    "import pandas as pd\n"
   ]
  },
  {
   "cell_type": "markdown",
   "metadata": {},
   "source": [
    "<h2>Reading Files</h2>"
   ]
  },
  {
   "cell_type": "code",
   "execution_count": 11,
   "metadata": {},
   "outputs": [
    {
     "name": "stdout",
     "output_type": "stream",
     "text": [
      ",country,capital,area,population\n",
      "BR,Brazil,Brasilia,8.516,200.4\n",
      "RU,Russia,Moscow,17.10,143.5\n",
      "IN,India,New Delhi,3.286,1252\n",
      "CH,China,Beijing,9.597,1357\n",
      "SA,South Africa,Pretoria,1.221,52.98\n"
     ]
    }
   ],
   "source": [
    "file1=r\"E:\\CAREER_DATA\\data_files\\brics.txt\"\n",
    "\n",
    "#use a context manager whch open, read and close the txt file\n",
    "with open(file1, \"r\") as file: \n",
    "    print(file.read())"
   ]
  },
  {
   "cell_type": "code",
   "execution_count": null,
   "metadata": {},
   "outputs": [],
   "source": []
  }
 ],
 "metadata": {
  "kernelspec": {
   "display_name": "Python 3 (ipykernel)",
   "language": "python",
   "name": "python3"
  },
  "language_info": {
   "codemirror_mode": {
    "name": "ipython",
    "version": 3
   },
   "file_extension": ".py",
   "mimetype": "text/x-python",
   "name": "python",
   "nbconvert_exporter": "python",
   "pygments_lexer": "ipython3",
   "version": "3.9.13"
  }
 },
 "nbformat": 4,
 "nbformat_minor": 2
}
