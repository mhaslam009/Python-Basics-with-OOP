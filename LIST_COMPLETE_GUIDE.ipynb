{
 "cells": [
  {
   "cell_type": "markdown",
   "id": "bba65522",
   "metadata": {},
   "source": [
    "<h1>Lists</h1>"
   ]
  },
  {
   "cell_type": "markdown",
   "id": "81071a6e",
   "metadata": {},
   "source": [
    "<h2>1)Creation</h2>"
   ]
  },
  {
   "cell_type": "code",
   "execution_count": 1,
   "id": "f1cc3b3a",
   "metadata": {},
   "outputs": [
    {
     "name": "stdout",
     "output_type": "stream",
     "text": [
      "['ghy', 98, 1.0, False]\n",
      "<class 'list'>\n",
      "[1, 2, 4, [90, 9.7, True], [12, 45, 'dvu']]\n"
     ]
    }
   ],
   "source": [
    "#Static Way\n",
    "list1=[1,\"hj\",8.9,True]\n",
    "#dynamic way\n",
    "list2=[]\n",
    "tuple1=(\"ghy\",98,1.0,False)\n",
    "list2=list(tuple1)\n",
    "print(list2)\n",
    "print(type(list2))\n",
    "#2d list\n",
    "list2d=[1,2,4,[90,9.7,True],[12,45,\"dvu\"]]\n",
    "print(list2d)"
   ]
  },
  {
   "cell_type": "markdown",
   "id": "65ad0ef5",
   "metadata": {},
   "source": [
    "<h2>2)subsetting and slicing</h2>"
   ]
  },
  {
   "cell_type": "code",
   "execution_count": 2,
   "id": "ed0836cb",
   "metadata": {},
   "outputs": [
    {
     "name": "stdout",
     "output_type": "stream",
     "text": [
      "1\n",
      "['hj', 8.9]\n",
      "1\n",
      "[90, 9.7, True]\n",
      "True\n"
     ]
    }
   ],
   "source": [
    "#subsetting\n",
    "#by index\n",
    "print(list1[0])\n",
    "print(list1[1:3])\n",
    "#2d index\n",
    "print(f\"{list2d[0]}\\n{list2d[3]}\\n{list2d[3][2]}\")\n"
   ]
  },
  {
   "cell_type": "markdown",
   "id": "97204065",
   "metadata": {},
   "source": [
    "<h2>3)Addition, Deletion and Deletion<h2>"
   ]
  },
  {
   "cell_type": "code",
   "execution_count": 3,
   "id": "b36c58b6",
   "metadata": {},
   "outputs": [
    {
     "name": "stdout",
     "output_type": "stream",
     "text": [
      "[1.86, 'ghy', 98, 1.0, False]\n",
      "[1, 'hj', 8.9, True, 'ghy', 98, 1.0, False]\n",
      "['ghy', 98, 1.0, False]\n",
      "list1-[1, 'hj', 8.9, True]\n",
      "list1 after manipulation-[1, 'hj', 1.86, True]\n"
     ]
    }
   ],
   "source": [
    "#addition\n",
    "#list3=1.86+list2\n",
    "#error:1.86 is a float and cannot be added with a list\n",
    "#sultion:\n",
    "list3=[1.86]+list2\n",
    "print(list3)\n",
    "list4=list1+list2\n",
    "print(list4)\n",
    "\n",
    "\n",
    "#deletion\n",
    "del(list4) #delete a list4\n",
    "#print(list4)  #ERROR: BECAUSE list4 already deleted\n",
    "del(list3[0]) #delete an element/elements from a list \n",
    "print(list3)\n",
    "\n",
    "\n",
    "#replacement\n",
    "print(f\"list1-{list1}\")\n",
    "list1[2]=1.86\n",
    "print(f\"list1 after manipulation-{list1}\")"
   ]
  },
  {
   "cell_type": "markdown",
   "id": "6d392e61",
   "metadata": {},
   "source": [
    "<h2>4)Reference Copying and ACTUAL Copying</h2>"
   ]
  },
  {
   "cell_type": "code",
   "execution_count": 4,
   "id": "2b6fe3c8",
   "metadata": {},
   "outputs": [
    {
     "name": "stdout",
     "output_type": "stream",
     "text": [
      " list1-[1, 'hj', 1.86, True]\n",
      "list5-['hj', 1.86, True],list3-['hj', 1.86, True]\n",
      "list6-['hj', 1.86, True], list7-['hj', 1.86, True]\n",
      "list7 after copy-[True, 'hj', 1.86, True], \n",
      "list5 after copying['hj', 1.86, True]\n"
     ]
    }
   ],
   "source": [
    "#refrence copy\n",
    "print(f\" list1-{list1}\")\n",
    "list5=list1\n",
    "#if i make changes in list5 same changes will occur in list3\n",
    "del(list5[0])\n",
    "print(f\"list5-{list5},list3-{list1}\")\n",
    "#see mo difference in both list\n",
    "\n",
    "#that was referenc ecopying now we perform actual copying to save ram\n",
    "list6=list(list1)\n",
    "#OR\n",
    "list7=list5[:] #all elememnts of 5 save in 7 \n",
    "print(f\"list6-{list6}, list7-{list7}\")\n",
    "#now for experiment if i make some changes\n",
    "list7=[True]+list5[:]\n",
    "print(f\"list7 after copy-{list7}, \\nlist5 after copying{list5}\")"
   ]
  },
  {
   "cell_type": "markdown",
   "id": "8a807d37",
   "metadata": {},
   "source": [
    "<h2>5)Functions and Methods for LIST</h2>"
   ]
  },
  {
   "cell_type": "markdown",
   "id": "36e42e7b",
   "metadata": {},
   "source": [
    "<h3>TO CHECK ALL VARIABLES IN JUPYTER</h3>"
   ]
  },
  {
   "cell_type": "code",
   "execution_count": 5,
   "id": "155f5382",
   "metadata": {},
   "outputs": [
    {
     "name": "stdout",
     "output_type": "stream",
     "text": [
      "['In', 'Out', '_', '__', '___', '__builtin__', '__builtins__', '__doc__', '__loader__', '__name__', '__package__', '__spec__', '_dh', '_i', '_i1', '_i2', '_i3', '_i4', '_i5', '_ih', '_ii', '_iii', '_oh', 'exit', 'get_ipython', 'list1', 'list2', 'list2d', 'list3', 'list5', 'list6', 'list7', 'quit', 'tuple1']\n",
      "........................................................................................\n",
      "list1\t list2\t list2d\t list3\t list5\t list6\t list7\t tuple1\t \n",
      "........................................................................................\n",
      "Variable   Type     Data/Info\n",
      "-----------------------------\n",
      "list1      list     n=3\n",
      "list2      list     n=4\n",
      "list2d     list     n=5\n",
      "list3      list     n=4\n",
      "list5      list     n=3\n",
      "list6      list     n=3\n",
      "list7      list     n=4\n",
      "tuple1     tuple    n=4\n"
     ]
    }
   ],
   "source": [
    "#to show variable in a list\n",
    "print(dir())\n",
    "print(\"........................................................................................\")\n",
    "\n",
    "#to see all variables in a list in jupyter notebook\n",
    "%who\n",
    "print(\"........................................................................................\")\n",
    "#to see size and variables in jupyter notebok\n",
    "%whos"
   ]
  },
  {
   "cell_type": "markdown",
   "id": "1ac12161",
   "metadata": {},
   "source": [
    "<h3>ALL OTHER FUNCTIONS AND METHODS IN PYTHON</h3>"
   ]
  },
  {
   "cell_type": "markdown",
   "id": "3561b340",
   "metadata": {},
   "source": [
    "<h4>Functions</h4>\n"
   ]
  },
  {
   "cell_type": "code",
   "execution_count": 6,
   "id": "4aa0e54d",
   "metadata": {},
   "outputs": [
    {
     "name": "stdout",
     "output_type": "stream",
     "text": [
      "Help on built-in function max in module builtins:\n",
      "\n",
      "max(...)\n",
      "    max(iterable, *[, default=obj, key=func]) -> value\n",
      "    max(arg1, arg2, *args, *[, key=func]) -> value\n",
      "    \n",
      "    With a single iterable argument, return its biggest item. The\n",
      "    default keyword-only argument specifies an object to return if\n",
      "    the provided iterable is empty.\n",
      "    With two or more arguments, return the largest argument.\n",
      "\n",
      "Help on method_descriptor:\n",
      "\n",
      "append(self, object, /)\n",
      "    Append object to the end of the list.\n",
      "\n",
      "90.22\n",
      "-9.0\n",
      "11\n",
      "without sorting-[9, 2, 3, 8, 0, -9, 9]\n",
      "with sorted-[-9, 0, 2, 3, 8, 9, 9]\n"
     ]
    }
   ],
   "source": [
    "#1)type(): USED\n",
    "\n",
    "#2)help(): TO GET THE SEE THE DOCUMENTATION OF A FUNCTION OR METHOD\n",
    "\n",
    "help(max) #for FUNCTIONS\n",
    "help(list.append) #for methods\n",
    "\n",
    "#3)max()\n",
    "\n",
    "\n",
    "list100=[12,45,8.66,90.22,-1,0,-9.0,12,12,12,-9]\n",
    "print(max(list100))\n",
    "\n",
    "\n",
    "#3)min()\n",
    "print(min(list100))\n",
    "\n",
    "\n",
    "#4)len()\n",
    "\n",
    "print(len(list100))\n",
    "\n",
    "#5)Sorted\n",
    "list99=[9,2,3,8,0,-9,9]\n",
    "print(f\"without sorting-{list99}\")\n",
    "print(f\"with sorted-{sorted(list99)}\")"
   ]
  },
  {
   "cell_type": "markdown",
   "id": "65de6fb7",
   "metadata": {},
   "source": [
    "<h4>Built-in methods</h4>"
   ]
  },
  {
   "cell_type": "code",
   "execution_count": 41,
   "id": "3d83390f",
   "metadata": {},
   "outputs": [
    {
     "name": "stdout",
     "output_type": "stream",
     "text": [
      "2\n",
      "[5, 4, 3, 2, 1]\n",
      "4\n",
      "['sjdv', 90, True, 0.2, 'hamza']\n",
      "[12, 45, 8.66, 90.22, -1, 0, -9.0, 12, 12, 12, -9, 'hamza', 'hj', 1.86, True, 'hamza', 'hj', 1.86, True, 'hamza', 'hj', 1.86, True, 'hamza', 'hj', 1.86, True, 'hamza', 'hj', 1.86, True, 'hamza', 'hj', 1.86, True, 'hamza', 'hj', 1.86, True]\n",
      "['zeeshan', 90, 65, 0.2, -99, 'hji', 'yid']\n",
      "[-9, -8, -7, 'lmao', False]\n",
      "[-9, -8, -7, 'lmao']\n",
      "True\n",
      "False\n"
     ]
    }
   ],
   "source": [
    "list103=[\"sjdv\",90,True,0.2]\n",
    "list104=[\"ppp\",False]\n",
    "list105=[90,65,.2,-99,\"hji\",\"yid\"]\n",
    "list106=[-9,-8,-7,\"ha\",\"lmao\",False]\n",
    "#object.index()\n",
    "print(list100.index(8.66)) #out-index of an eleemnt, inp-element from list\n",
    "\n",
    "#object.reverse()\n",
    "list101 = [1, 2, 3, 4, 5]\n",
    "list101.reverse() #out: reversed ordered list, inp:unordered list\n",
    "print(list101) \n",
    "\n",
    "\n",
    "\n",
    "#object.count()\n",
    "\n",
    "print(list100.count(12)) #out: no.of occurances of a specified elemnt, inp: element \n",
    "\n",
    "\n",
    "#object.append() #non returnable\n",
    "\n",
    "list103.append(\"hamza\") #out:appended list with the specified element at last, inp: element \n",
    "#will add an element to an existing list at the last, \n",
    "#but it doesnt return anything that is why you cannot save it to another variable\n",
    "print(list103)\n",
    "del(list103[:])\n",
    "\n",
    "\n",
    "\n",
    "#object.extend() #non returnable\n",
    "\n",
    "list103.extend(list104)#out:extended list with the specified list at last, inp: list\n",
    "print(list100)\n",
    "del(list103[:])\n",
    "\n",
    "\n",
    "#object.insert()#out:insert an element in a list at specified index and element, inp: index, element\n",
    "\n",
    "#help(list.insert)\n",
    "list105.insert(0,\"zeeshan\")\n",
    "print(list105)\n",
    "del(list105[:])\n",
    "\n",
    "#object.remove()\n",
    "#help(list.remove(ha))\n",
    "list106.remove(\"ha\")\n",
    "print(list106)\n",
    "\n",
    "\n",
    "#object.pop()\n",
    "list106.pop(-1)\n",
    "print(list106)\n",
    "\n",
    "#use \"in\" to check a specifc elemnt present or not\n",
    "\n",
    "print(\"lmao\" in list106)\n",
    "print(\"ha\" in list106)"
   ]
  },
  {
   "cell_type": "markdown",
   "id": "7d2c6ead",
   "metadata": {},
   "source": [
    "<h1>SUMMARY</h1>\n",
    "<h2>Functions</h2>\n",
    "<ul>\n",
    "    <li>type(): <i>inp:object, out:type of object</i></li>\n",
    "    <li>help(): <i>inp:object, functions, object.method, out:guide of how to use the inserted entity </i></li>\n",
    "    <li>max(): <i>inp:list, out:max element in a list</i></li>\n",
    "    <li>min(): <i>inp:list, out:min element in a list</i></li>\n",
    "    <li>len(): <i>inp:lits, out:integer value of a list</i></li>\n",
    "    <li>sorted(): <i>inp:lits, out:sorted list</i></li>\n",
    "    </ul>\n",
    "\n",
    "<h2>Methods</h2>\n",
    "<ul>\n",
    "    <li>list.index():<b>inp:element from a list, out:index of the mentioned element</b></li>\n",
    "    <li>list.reverse():<b>None</b></li>\n",
    "    <li>list.count():<b>inp:element from a list, out:integer value indicating how many times mentioned element repeated in a list</b></li>\n",
    "    <li>list.append():<b>inp:element outside a list, out:inserted list with inserted eleemnt in last</b></li>\n",
    "    <li>list.extend():<b>inp:any list, out:inserted list with inserted list in last</b></li>\n",
    "    <li>list.insert():<b>inp:index,element, out:inserted list with inserted element at specified index</b></li>\n",
    "    <li>list.remove():<b>inp:element, out:remove an element from list</b></li>\n",
    "    <li>list.pop():<b>inp:index, out:pop out element from specified index</b></li>\n",
    "    </ul>"
   ]
  }
 ],
 "metadata": {
  "kernelspec": {
   "display_name": "Python 3 (ipykernel)",
   "language": "python",
   "name": "python3"
  },
  "language_info": {
   "codemirror_mode": {
    "name": "ipython",
    "version": 3
   },
   "file_extension": ".py",
   "mimetype": "text/x-python",
   "name": "python",
   "nbconvert_exporter": "python",
   "pygments_lexer": "ipython3",
   "version": "3.9.13"
  }
 },
 "nbformat": 4,
 "nbformat_minor": 5
}
