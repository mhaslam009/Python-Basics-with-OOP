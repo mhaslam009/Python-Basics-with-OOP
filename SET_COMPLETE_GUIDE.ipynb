{
 "cells": [
  {
   "cell_type": "markdown",
   "id": "b6ce381f",
   "metadata": {},
   "source": [
    "<h1>SETS</h1>"
   ]
  },
  {
   "cell_type": "markdown",
   "id": "fe9f03f6",
   "metadata": {},
   "source": [
    "<h2>1)Creation</h2>"
   ]
  },
  {
   "cell_type": "code",
   "execution_count": 1,
   "id": "e49a7449",
   "metadata": {},
   "outputs": [
    {
     "name": "stdout",
     "output_type": "stream",
     "text": [
      "{False, 0.2, 4, 'haha', 9.6, 12, 45, 'hamza'}\n",
      "('a', 'b', 'c', 'key1', 'key2', 'key3', 'key4', 'key5')\n",
      "{False, 0.2, 1, 0.67, 4, 'haha', 9.6, 12, 45, 'ygh', 'hamza', 'sd'}\n",
      "{False, 0.2, 1, 0.67, 4, 'haha', 9.6, 12, 45, 'ygh', 'hamza', 'sd'}\n",
      "[12, 45, 9.6, 'hamza', 'haha', False, 0.2, 4]\n"
     ]
    }
   ],
   "source": [
    "#static way\n",
    "set1={1,\"sd\",True,0.67,\"ygh\",False,90,4,\"hamza\",45}\n",
    "\n",
    "#dynamic way\n",
    "list1=[12,45,9.6,\"hamza\",\"haha\",False,0.2,4]\n",
    "set2=set(list1)\n",
    "print(set2)\n",
    "dict1={'a': 2, 'b': 3, 'c': 4, 'key1': 1, 'key2': 2, 'key3': 3, 'key4': 4, 'key5': 5}\n",
    "set3=tuple(dict1)\n",
    "print(set3)\n",
    "tuple1=(12,45,9.6,\"hamza\",\"haha\",False,0.2,4,1,\"sd\",True,0.67,\"ygh\",True,0)\n",
    "set4=set(tuple1)\n",
    "print(set4) #the output shows that if you try to insert any array which has duplicated members,\n",
    "#even 1 treat as True and 0 treat as false or vice versa in both cases, will consider it one time\n",
    "\n",
    "#copying members of list and convert as a tuple\n",
    "set5=set(tuple1[:])\n",
    "print(set5)\n",
    "\n",
    "\n",
    "\n",
    "#experiment not dynamic creation of set\n",
    "set6=list1[:]\n",
    "print(set6) #this copied a members of list as list\n",
    "\n"
   ]
  },
  {
   "cell_type": "markdown",
   "id": "ca3c0b14",
   "metadata": {},
   "source": [
    "<h2>2)Subsetting and slicing</h2>\n",
    "<p><b>Doesnt </b>SUPPORT NORMAL SUBSETTING LIKE OTHER DATA TYPES, instead it has set operations</p>"
   ]
  },
  {
   "cell_type": "markdown",
   "id": "82cccd0a",
   "metadata": {},
   "source": [
    "<h2>3)Set Operations</h2>"
   ]
  },
  {
   "cell_type": "code",
   "execution_count": 2,
   "id": "9b9ae21d",
   "metadata": {},
   "outputs": [
    {
     "name": "stdout",
     "output_type": "stream",
     "text": [
      "{0.67, 1, False, 4, 90, 45, 'ygh', 'hamza', 'sd'}\n",
      "{False, 0.2, 4, 'haha', 9.6, 12, 45, 'hamza'}\n",
      "{0.67, 1, False, 0.2, 4, 90, 'haha', 9.6, 12, 45, 'ygh', 'hamza', 'sd'}\n",
      "{False, 4, 45, 'hamza'}\n",
      "{0.67, 1, 'sd', 'ygh', 90}\n"
     ]
    }
   ],
   "source": [
    "print(set1)\n",
    "print(set2)\n",
    "#union set\n",
    "union_set=set1 | set2\n",
    "print(union_set)\n",
    "\n",
    "#intersection set\n",
    "intersection_set=set1 & set2\n",
    "print(intersection_set)\n",
    "\n",
    "#difference set\n",
    "diff_set=set1-set2\n",
    "print(diff_set)"
   ]
  },
  {
   "cell_type": "markdown",
   "id": "b4828afe",
   "metadata": {},
   "source": [
    "<h2>4)Addition Multiplication and division</h2>"
   ]
  },
  {
   "cell_type": "code",
   "execution_count": 3,
   "id": "820f17ce",
   "metadata": {},
   "outputs": [],
   "source": [
    "#set100=set1+set2 #cannot support +\n",
    "#print(set100)\n",
    "\n",
    "#del(set1[:]) #set doesnt support del\n",
    "#print(set1)\n",
    "\n",
    "#set1{\"False\"}={\"hgcvwejcvweuckwevkcuwekucvyvwejcgwec\"} #set doesnt support {} neither []\n",
    "#print(set1)\n"
   ]
  },
  {
   "cell_type": "markdown",
   "id": "8bfbfaba",
   "metadata": {},
   "source": [
    "<h2>5)Functions and Methods</h2>"
   ]
  },
  {
   "cell_type": "markdown",
   "id": "57a07773",
   "metadata": {},
   "source": [
    "<h3>Functions</h3>"
   ]
  },
  {
   "cell_type": "code",
   "execution_count": 4,
   "id": "281407c0",
   "metadata": {},
   "outputs": [
    {
     "name": "stdout",
     "output_type": "stream",
     "text": [
      "Help on built-in function max in module builtins:\n",
      "\n",
      "max(...)\n",
      "    max(iterable, *[, default=obj, key=func]) -> value\n",
      "    max(arg1, arg2, *args, *[, key=func]) -> value\n",
      "    \n",
      "    With a single iterable argument, return its biggest item. The\n",
      "    default keyword-only argument specifies an object to return if\n",
      "    the provided iterable is empty.\n",
      "    With two or more arguments, return the largest argument.\n",
      "\n",
      "Help on method_descriptor:\n",
      "\n",
      "remove(...)\n",
      "    Remove an element from a set; it must be a member.\n",
      "    \n",
      "    If the element is not a member, raise a KeyError.\n",
      "\n",
      "90.22\n",
      "-9.0\n",
      "11\n",
      "without sorting-{0, 2, 3, -9, 8, 9}\n",
      "with sorted-[-9, 0, 2, 3, 8, 9]\n"
     ]
    }
   ],
   "source": [
    "#1)type(): USED\n",
    "\n",
    "#2)help(): TO GET THE SEE THE DOCUMENTATION OF A FUNCTION OR METHOD\n",
    "\n",
    "help(max) #for FUNCTIONS\n",
    "help(set.remove) #for methods\n",
    "\n",
    "#3)max()\n",
    "\n",
    "\n",
    "set110=[12,45,8.66,90.22,-1,0,-9.0,12,12,12,-9]\n",
    "print(max(set110))\n",
    "\n",
    "\n",
    "#3)min()\n",
    "print(min(set110))\n",
    "\n",
    "\n",
    "#4)len()\n",
    "\n",
    "print(len(set110))\n",
    "\n",
    "#5)Sorted\n",
    "set111={9,2,3,8,0,-9,9}\n",
    "print(f\"without sorting-{set111}\")\n",
    "print(f\"with sorted-{sorted(set111)}\") # same issue like dict, tuple"
   ]
  },
  {
   "cell_type": "markdown",
   "id": "9a67d295",
   "metadata": {},
   "source": [
    "<h3>Methods</h3>"
   ]
  },
  {
   "cell_type": "code",
   "execution_count": 1,
   "id": "9b50c667",
   "metadata": {},
   "outputs": [
    {
     "ename": "NameError",
     "evalue": "name 'set1' is not defined",
     "output_type": "error",
     "traceback": [
      "\u001b[1;31m---------------------------------------------------------------------------\u001b[0m",
      "\u001b[1;31mNameError\u001b[0m                                 Traceback (most recent call last)",
      "\u001b[1;32m~\\AppData\\Local\\Temp\\ipykernel_3972\\3349908902.py\u001b[0m in \u001b[0;36m<module>\u001b[1;34m\u001b[0m\n\u001b[0;32m      1\u001b[0m \u001b[1;31m#set_object.remove()\u001b[0m\u001b[1;33m\u001b[0m\u001b[1;33m\u001b[0m\u001b[0m\n\u001b[0;32m      2\u001b[0m \u001b[1;31m#print(set1.remove(2))\u001b[0m\u001b[1;33m\u001b[0m\u001b[1;33m\u001b[0m\u001b[0m\n\u001b[1;32m----> 3\u001b[1;33m \u001b[0mprint\u001b[0m\u001b[1;33m(\u001b[0m\u001b[0mset1\u001b[0m\u001b[1;33m.\u001b[0m\u001b[0mremove\u001b[0m\u001b[1;33m(\u001b[0m\u001b[1;36m90\u001b[0m\u001b[1;33m)\u001b[0m\u001b[1;33m)\u001b[0m\u001b[1;33m\u001b[0m\u001b[1;33m\u001b[0m\u001b[0m\n\u001b[0m\u001b[0;32m      4\u001b[0m \u001b[0mprint\u001b[0m\u001b[1;33m(\u001b[0m\u001b[1;34m\"--------------------------\"\u001b[0m\u001b[1;33m)\u001b[0m\u001b[1;33m\u001b[0m\u001b[1;33m\u001b[0m\u001b[0m\n\u001b[0;32m      5\u001b[0m \u001b[1;33m\u001b[0m\u001b[0m\n",
      "\u001b[1;31mNameError\u001b[0m: name 'set1' is not defined"
     ]
    }
   ],
   "source": [
    "#set_object.remove()\n",
    "#print(set1.remove(2))\n",
    "\n",
    "#print(set1.remove(90))\n",
    "#print(\"--------------------------\")\n",
    "\n",
    "\n",
    "\n",
    "#set_object.discard()\n",
    "\n",
    "print(set1.discard(2)) #will not raise an error like .remove\n",
    "print(set1.discard(45))\n",
    "print(set1)\n",
    "\n",
    "#set.pop()\n",
    "\n",
    "\n",
    "\n",
    "\n",
    "#set.clear()\n",
    "\n",
    "\n",
    "\n"
   ]
  },
  {
   "cell_type": "markdown",
   "id": "5c5fa011",
   "metadata": {},
   "source": [
    "<h1>SUMMARY</h1>\n",
    "<h2>Functions</h2>\n",
    "<ul>\n",
    "    <li>    </li>\n",
    "    </ul>\n",
    "\n",
    "<h2>Methods</h2>\n",
    "<ul>\n",
    "    <li></li>\n",
    "    </ul>"
   ]
  }
 ],
 "metadata": {
  "kernelspec": {
   "display_name": "Python 3 (ipykernel)",
   "language": "python",
   "name": "python3"
  },
  "language_info": {
   "codemirror_mode": {
    "name": "ipython",
    "version": 3
   },
   "file_extension": ".py",
   "mimetype": "text/x-python",
   "name": "python",
   "nbconvert_exporter": "python",
   "pygments_lexer": "ipython3",
   "version": "3.9.13"
  }
 },
 "nbformat": 4,
 "nbformat_minor": 5
}
