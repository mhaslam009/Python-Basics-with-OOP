{
 "cells": [
  {
   "cell_type": "markdown",
   "id": "dd4bffef",
   "metadata": {},
   "source": [
    "<h1>dictionary</h1>"
   ]
  },
  {
   "cell_type": "markdown",
   "id": "5108c500",
   "metadata": {},
   "source": [
    "<h2>1)CREATION</h2>"
   ]
  },
  {
   "cell_type": "code",
   "execution_count": 1,
   "id": "33d636b1",
   "metadata": {},
   "outputs": [
    {
     "name": "stdout",
     "output_type": "stream",
     "text": [
      "{'key1': 1, 'key2': 2, 'key3': 3, 'key4': 4}\n",
      "{'key1': [1, 2, 3, 4, 5], 'key2': {1, 2, 3, 4, 5}, 'key3': (1, 2, 3, 4, 5), 'key4': {1: 'a', 2: 'b'}}\n"
     ]
    }
   ],
   "source": [
    "#Static Way\n",
    "dict1={\"a\":2,\"b\":3,\"c\":4}\n",
    "\n",
    "\n",
    "#dynamic way\n",
    "dict2={}\n",
    "dict2[\"key1\"]=1\n",
    "dict2[\"key2\"]=2\n",
    "dict2[\"key3\"]=3\n",
    "dict2[\"key4\"]=4\n",
    "print(dict2)\n",
    "\n",
    "#2d dictionary\n",
    "dict2d={}\n",
    "dict2d[\"key1\"]=[1,2,3,4,5] #list inside a dict\n",
    "dict2d[\"key2\"]={1,2,3,4,5} #set inside a dict\n",
    "dict2d[\"key3\"]=(1,2,3,4,5) #tuple inside a dict\n",
    "dict2d[\"key4\"]={1:\"a\",2:\"b\"} #dict inside dict\n",
    "print(dict2d)"
   ]
  },
  {
   "cell_type": "markdown",
   "id": "308a1897",
   "metadata": {},
   "source": [
    "<h2>2)Subsetting and Slicing</h2>"
   ]
  },
  {
   "cell_type": "code",
   "execution_count": 8,
   "id": "45f63aac",
   "metadata": {},
   "outputs": [
    {
     "ename": "KeyError",
     "evalue": "'key1'",
     "output_type": "error",
     "traceback": [
      "\u001b[1;31m---------------------------------------------------------------------------\u001b[0m",
      "\u001b[1;31mKeyError\u001b[0m                                  Traceback (most recent call last)",
      "\u001b[1;32m~\\AppData\\Local\\Temp\\ipykernel_12568\\2952668982.py\u001b[0m in \u001b[0;36m<module>\u001b[1;34m\u001b[0m\n\u001b[1;32m----> 1\u001b[1;33m \u001b[0mprint\u001b[0m\u001b[1;33m(\u001b[0m\u001b[0mdict1\u001b[0m\u001b[1;33m[\u001b[0m\u001b[1;34m\"key1\"\u001b[0m\u001b[1;33m]\u001b[0m\u001b[1;33m)\u001b[0m\u001b[1;33m\u001b[0m\u001b[1;33m\u001b[0m\u001b[0m\n\u001b[0m",
      "\u001b[1;31mKeyError\u001b[0m: 'key1'"
     ]
    }
   ],
   "source": [
    "#print(dict1[\"key1\"])\n",
    "\n",
    "#majorly done by methods and you can use other functions"
   ]
  },
  {
   "cell_type": "markdown",
   "id": "b1815e4a",
   "metadata": {},
   "source": [
    "<h2>3)Addition Deletion</h2>"
   ]
  },
  {
   "cell_type": "code",
   "execution_count": 2,
   "id": "8ea9ced7",
   "metadata": {},
   "outputs": [
    {
     "name": "stdout",
     "output_type": "stream",
     "text": [
      "{'key1': 1, 'key2': 2, 'key3': 3, 'key4': 4, 'key5': 5}\n",
      "dict3-{'a': 2, 'b': 3, 'c': 4, 'key1': 1, 'key2': 2, 'key3': 3, 'key4': 4, 'key5': 5}\n",
      "dict3 after deletion-{'b': 3, 'c': 4, 'key1': 1, 'key2': 2, 'key3': 3, 'key4': 4, 'key5': 5}\n",
      "{'b': -3, 'c': 4, 'key1': 1, 'key2': 2, 'key3': 3, 'key4': 4, 'key5': 5}\n"
     ]
    }
   ],
   "source": [
    "#addition\n",
    "dict2[\"key5\"]=5\n",
    "print(dict2)\n",
    "\n",
    "dict3={**dict1,**dict2}\n",
    "print(f\"dict3-{dict3}\")\n",
    "\n",
    "#deletion\n",
    "dict4={\"as\":0,\"gh\":1}\n",
    "del(dict4) #delete a list4\n",
    "#print(list4)  #ERROR: BECAUSE dict4 already deleted\n",
    "del(dict3[\"a\"]) #delete an element/elements from a list \n",
    "print(f\"dict3 after deletion-{dict3}\")\n",
    "\n",
    "#replacement\n",
    "dict3[\"b\"]=-3\n",
    "print(dict3)\n",
    "\n",
    "#NOTE: IF YOU USE SAME KEY THE VALUE WILL BE REPLACED, IF YOU USE NEW KEY THE DICT EXTENDED"
   ]
  },
  {
   "cell_type": "markdown",
   "id": "ed3e4146",
   "metadata": {},
   "source": [
    "<h2>FUNCTION AND METHODS OF DICTIONARY<h2>"
   ]
  },
  {
   "cell_type": "code",
   "execution_count": 3,
   "id": "fbc21ecf",
   "metadata": {},
   "outputs": [
    {
     "name": "stdout",
     "output_type": "stream",
     "text": [
      "Variable   Type    Data/Info\n",
      "----------------------------\n",
      "dict1      dict    n=3\n",
      "dict2      dict    n=5\n",
      "dict2d     dict    n=4\n",
      "dict3      dict    n=7\n"
     ]
    }
   ],
   "source": [
    "%whos"
   ]
  },
  {
   "cell_type": "markdown",
   "id": "cecbd0a7",
   "metadata": {},
   "source": [
    "<h3>FUNCTIONS<h3>"
   ]
  },
  {
   "cell_type": "code",
   "execution_count": 4,
   "id": "940fc6be",
   "metadata": {},
   "outputs": [
    {
     "name": "stdout",
     "output_type": "stream",
     "text": [
      "Help on built-in function max in module builtins:\n",
      "\n",
      "max(...)\n",
      "    max(iterable, *[, default=obj, key=func]) -> value\n",
      "    max(arg1, arg2, *args, *[, key=func]) -> value\n",
      "    \n",
      "    With a single iterable argument, return its biggest item. The\n",
      "    default keyword-only argument specifies an object to return if\n",
      "    the provided iterable is empty.\n",
      "    With two or more arguments, return the largest argument.\n",
      "\n",
      "Help on method_descriptor:\n",
      "\n",
      "pop(...)\n",
      "    D.pop(k[,d]) -> v, remove specified key and return the corresponding value.\n",
      "    \n",
      "    If key is not found, default is returned if given, otherwise KeyError is raised\n",
      "\n",
      "key5\n",
      "a\n",
      "8\n",
      "without sorting-{'a': -2, 'b': 3, 'c': 4, 'key1': -11, 'key2': 2, 'key3': 3, 'key4': 4, 'key5': 5}\n",
      "with sorted-['a', 'b', 'c', 'key1', 'key2', 'key3', 'key4', 'key5']\n"
     ]
    }
   ],
   "source": [
    "#1)type(): USED\n",
    "\n",
    "#2)help(): TO GET THE SEE THE DOCUMENTATION OF A FUNCTION OR METHOD\n",
    "\n",
    "help(max) #for FUNCTIONS\n",
    "help(dict.pop) #for methods\n",
    "\n",
    "#3)max()\n",
    "\n",
    "\n",
    "dict100={'a': -2, 'b': 3, 'c': 4, 'key1': -11, 'key2': 2, 'key3': 3, 'key4': 4, 'key5': 5}\n",
    "print(max(dict100))\n",
    "\n",
    "\n",
    "#3)min()\n",
    "print(min(dict100))\n",
    "\n",
    "\n",
    "#4)len()\n",
    "print(len(dict100))\n",
    "\n",
    "#5)Sorted\n",
    "\n",
    "print(f\"without sorting-{dict100}\")\n",
    "print(f\"with sorted-{sorted(dict100)}\")\n",
    "#altough sorted can be applied on a dictionary but it changes the type of dict to list also it arranges the key\n"
   ]
  },
  {
   "cell_type": "markdown",
   "id": "63fe73c2",
   "metadata": {},
   "source": [
    "<h3>Methods</h3>\n"
   ]
  },
  {
   "cell_type": "code",
   "execution_count": 5,
   "id": "e6ee3e06",
   "metadata": {},
   "outputs": [
    {
     "name": "stdout",
     "output_type": "stream",
     "text": [
      "2\n",
      "{'a': 2, 'b': 3, 'c': 4, 'key1': 1, 'key3': 3, 'key4': 4, 'key5': 5}\n",
      "dict_keys(['a', 'b', 'c', 'key1', 'key3', 'key4', 'key5'])\n",
      "dict_values([2, 3, 4, 1, 3, 4, 5])\n",
      "dict_items([('a', 2), ('b', 3), ('c', 4), ('key1', 1), ('key3', 3), ('key4', 4), ('key5', 5)])\n",
      "{'a': 2, 'b': 3, 'c': 4, 'key1': 1, 'key3': 3, 'key4': 4, 'key5': 5}\n",
      "None\n",
      "{}\n"
     ]
    }
   ],
   "source": [
    "dict101={'a': 2, 'b': 3, 'c': 4, 'key1': 1, 'key2': 2, 'key3': 3, 'key4': 4, 'key5': 5}\n",
    "dict99={'a': 2, 'b': 3, 'c': 4, 'key1': 1, 'key2': 2, 'key3': 3, 'key4': 4, 'key5': 5}\n",
    "#dict_object.pop\n",
    "print(dict101.pop(\"key2\")) #inp:key(inside dict)\n",
    "print(dict101)\n",
    "\n",
    "#dict_object.keys()\n",
    "print(dict101.keys())\n",
    "\n",
    "#dict_object.values()\n",
    "print(dict101.values()) \n",
    "\n",
    "#dict_object.items()\n",
    "print(dict101.items())\n",
    "\n",
    "#dict_object.copy()\n",
    "dict102=dict101.copy() #created a shallow copy \n",
    "print(dict102)\n",
    "\n",
    "\n",
    "#dict_object.clear()\n",
    "print(dict99.clear()) #clear all elements from a dict\n",
    "print(dict99)"
   ]
  },
  {
   "cell_type": "markdown",
   "id": "24630d6e",
   "metadata": {},
   "source": [
    "<h1>SUMMARY</h1>\n",
    "\n",
    "<h2>Functions</h2>\n",
    "<ul>\n",
    "    <li>type(): <i>inp:object, out:type of object</i></li>\n",
    "    <li>help(): <i>inp:object, functions, object.method, out:guide of how to use the inserted entity </i></li>\n",
    "    <li>max(): <i>inp:dict, out:max value of a key, and prints out that key</i></li>\n",
    "    <li>min(): <i>inp:dict, out:min value of a key, and prints out that key</i></li>\n",
    "    <li>len(): <i>inp:dict, out:integer value of a dict</i></li>\n",
    "    <li>sorted(): <i>inp:dict, out:sorted list of dictionary keys are generated, but <b>it convert the type of dict to list</b></i></li>\n",
    "</ul>\n",
    "\n",
    "<h2>Methods</h2>\n",
    "<ul>\n",
    "    <li>list.keys(): <b>inp:NONE, out:all keys of dict</b></li>\n",
    "    <li>list.values(): <b>None, out:all values of dict</b></li>\n",
    "    <li>list.items(): <b>inp:element from a list, out:all key value pairs</b></li>\n",
    "    <li>list.copy(): <b>inp:element outside a list, out:create shallow copy of the applied dict for later dynamic operation on it</b></li>\n",
    "    <li>list.clear(): <b>inp:any list, out:clears out all key-value pairs from dict</b></li>\n",
    "    <li>list.pop(): <b>inp:key, out:pop out key-value pair from specified key</b></li>\n",
    "</ul>\n"
   ]
  }
 ],
 "metadata": {
  "kernelspec": {
   "display_name": "Python 3 (ipykernel)",
   "language": "python",
   "name": "python3"
  },
  "language_info": {
   "codemirror_mode": {
    "name": "ipython",
    "version": 3
   },
   "file_extension": ".py",
   "mimetype": "text/x-python",
   "name": "python",
   "nbconvert_exporter": "python",
   "pygments_lexer": "ipython3",
   "version": "3.9.13"
  }
 },
 "nbformat": 4,
 "nbformat_minor": 5
}
