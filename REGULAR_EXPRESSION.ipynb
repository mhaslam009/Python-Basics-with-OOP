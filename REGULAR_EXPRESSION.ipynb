{
 "cells": [
  {
   "cell_type": "markdown",
   "metadata": {},
   "source": [
    "<h1>REGULAR EXPRESSION</h1>"
   ]
  },
  {
   "cell_type": "markdown",
   "metadata": {},
   "source": [
    "<h2>Extracting Data</h2>"
   ]
  },
  {
   "cell_type": "code",
   "execution_count": 21,
   "metadata": {},
   "outputs": [
    {
     "name": "stdout",
     "output_type": "stream",
     "text": [
      "['2', '30', '57', '9']\n"
     ]
    }
   ],
   "source": [
    "import re\n",
    "x=\"My 2 favourite characters are 30 and 57, sometimes I line 9\"\n",
    "y=re.findall(\"[0-9]+\",x)\n",
    "print(y)"
   ]
  },
  {
   "cell_type": "code",
   "execution_count": 28,
   "metadata": {},
   "outputs": [
    {
     "name": "stdout",
     "output_type": "stream",
     "text": [
      "['m.hamzaaslam69420@gmail.com', 'hamzabhaya786@gmail.com', 'hamzaexplorer99@gmail.com']\n"
     ]
    }
   ],
   "source": [
    "import re\n",
    "\n",
    "str2 = \"From m.hamzaaslam69420@gmail.com \\n hellow 1 2 3 \\n  From hamzabhaya786@gmail.com\\n From hamzaexplorer99@gmail.com\"\n",
    "\n",
    "# Define a regular expression pattern to match email addresses\n",
    "reg2 = r'\\S+@\\S+'\n",
    "\n",
    "# Use re.findall() to find all email addresses that match the pattern\n",
    "ext2 = re.findall(reg2, str2)\n",
    "print(ext2)\n"
   ]
  }
 ],
 "metadata": {
  "kernelspec": {
   "display_name": "Python 3",
   "language": "python",
   "name": "python3"
  },
  "language_info": {
   "codemirror_mode": {
    "name": "ipython",
    "version": 3
   },
   "file_extension": ".py",
   "mimetype": "text/x-python",
   "name": "python",
   "nbconvert_exporter": "python",
   "pygments_lexer": "ipython3",
   "version": "3.10.4"
  },
  "orig_nbformat": 4
 },
 "nbformat": 4,
 "nbformat_minor": 2
}
